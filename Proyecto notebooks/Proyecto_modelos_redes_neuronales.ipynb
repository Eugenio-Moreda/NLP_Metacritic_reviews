{
 "cells": [
  {
   "cell_type": "markdown",
   "metadata": {
    "_cell_guid": "b1076dfc-b9ad-4769-8c92-a6c4dae69d19",
    "_uuid": "8f2839f25d086af736a60e9eeb907d3b93b6e0e5"
   },
   "source": [
    "# MODELOS REDES NEURONALES CONVOLUCIONALES"
   ]
  },
  {
   "cell_type": "code",
   "execution_count": 39,
   "metadata": {
    "_cell_guid": "79c7e3d0-c299-4dcb-8224-4455121ee9b0",
    "_uuid": "d629ff2d2480ee46fbb7e2d37f6b5fab8052498a"
   },
   "outputs": [],
   "source": [
    "import requests\n",
    "import nltk\n",
    "import pandas as pd\n",
    "import time\n",
    "from time import sleep, strftime\n",
    "import random\n",
    "from random import randint\n",
    "import shutil\n",
    "import pickle\n",
    "import os\n",
    "import nltk\n",
    "import nltk.text\n",
    "import nltk.corpus\n",
    "from wordcloud import WordCloud, STOPWORDS\n",
    "from time import sleep, strftime\n",
    "import numpy as np\n",
    "import re\n",
    "import matplotlib.pyplot as plt\n",
    "from sklearn import metrics\n",
    "from sklearn import preprocessing\n",
    "from sklearn.model_selection import GridSearchCV\n",
    "from sklearn.naive_bayes import GaussianNB\n",
    "from sklearn.model_selection import train_test_split\n",
    "from sklearn.ensemble import RandomForestClassifier\n",
    "from sklearn.linear_model import LogisticRegression\n",
    "from sklearn.metrics import accuracy_score\n",
    "from sklearn.metrics import recall_score\n",
    "from sklearn.metrics import confusion_matrix\n",
    "from sklearn.metrics import classification_report\n",
    "import matplotlib.pyplot as plt\n",
    "from tensorflow.keras.callbacks import EarlyStopping"
   ]
  },
  {
   "cell_type": "code",
   "execution_count": 40,
   "metadata": {},
   "outputs": [],
   "source": [
    "from numpy import array\n",
    "from tensorflow import keras\n",
    "from tensorflow.keras.preprocessing.text import one_hot\n",
    "from tensorflow.keras.preprocessing.sequence import pad_sequences\n",
    "from tensorflow.keras.models import Sequential\n",
    "from tensorflow.keras.models import Model\n",
    "from tensorflow.keras.layers import Dense\n",
    "from tensorflow.keras.layers import Flatten\n",
    "from tensorflow.keras.layers import Embedding\n",
    "from tensorflow.keras.layers import Dropout\n",
    "from tensorflow.keras.layers import LSTM\n",
    "from tensorflow.keras.layers import GRU\n",
    "from tensorflow.keras.layers import Input\n",
    "from tensorflow.keras.layers import Conv1D\n",
    "from tensorflow.keras.layers import MaxPooling1D, AveragePooling1D\n",
    "from nltk.tokenize import word_tokenize    \n",
    "from tensorflow.keras.preprocessing.text import Tokenizer\n",
    "from tensorflow.keras.metrics import Recall\n",
    "from tensorflow.keras.utils import to_categorical\n",
    "from tensorflow.keras.utils import plot_model\n"
   ]
  },
  {
   "cell_type": "code",
   "execution_count": 41,
   "metadata": {},
   "outputs": [],
   "source": [
    "from numpy import array\n",
    "from numpy import asarray\n",
    "from numpy import zeros"
   ]
  },
  {
   "cell_type": "markdown",
   "metadata": {},
   "source": [
    "# **Red neuronal convolucional. Reviews todos los datos**"
   ]
  },
  {
   "cell_type": "markdown",
   "metadata": {},
   "source": [
    "Cogemos de nuestro dataframe todas las reviews de medios especializados para analizar la clasificación de las etiquetas de reviews \"positivas\", \"mixtas\" y \"negativas\"."
   ]
  },
  {
   "cell_type": "code",
   "execution_count": 42,
   "metadata": {},
   "outputs": [],
   "source": [
    "df=pd.read_pickle('../input/df-prueba2/proyecto_df_protocolo.pkl')"
   ]
  },
  {
   "cell_type": "code",
   "execution_count": 43,
   "metadata": {},
   "outputs": [
    {
     "data": {
      "text/html": [
       "<div>\n",
       "<style scoped>\n",
       "    .dataframe tbody tr th:only-of-type {\n",
       "        vertical-align: middle;\n",
       "    }\n",
       "\n",
       "    .dataframe tbody tr th {\n",
       "        vertical-align: top;\n",
       "    }\n",
       "\n",
       "    .dataframe thead th {\n",
       "        text-align: right;\n",
       "    }\n",
       "</style>\n",
       "<table border=\"1\" class=\"dataframe\">\n",
       "  <thead>\n",
       "    <tr style=\"text-align: right;\">\n",
       "      <th></th>\n",
       "      <th>index</th>\n",
       "      <th>Titulo</th>\n",
       "      <th>Plataforma</th>\n",
       "      <th>Fecha_salida</th>\n",
       "      <th>Resumen</th>\n",
       "      <th>Desarrolladora</th>\n",
       "      <th>Genero</th>\n",
       "      <th>Rating</th>\n",
       "      <th>Metascore</th>\n",
       "      <th>Puntuacion_usuarios</th>\n",
       "      <th>...</th>\n",
       "      <th>Rail</th>\n",
       "      <th>Arcade</th>\n",
       "      <th>Puzzle</th>\n",
       "      <th>Puntuaciones_criticos</th>\n",
       "      <th>Medios</th>\n",
       "      <th>Fecha_review</th>\n",
       "      <th>Reviews</th>\n",
       "      <th>etiqueta</th>\n",
       "      <th>reviews_clean</th>\n",
       "      <th>target</th>\n",
       "    </tr>\n",
       "  </thead>\n",
       "  <tbody>\n",
       "    <tr>\n",
       "      <th>0</th>\n",
       "      <td>0</td>\n",
       "      <td>Red Dead Redemption 2</td>\n",
       "      <td>PlayStation 4</td>\n",
       "      <td>Oct 26, 2018</td>\n",
       "      <td>Developed by the creators of Grand Theft Auto ...</td>\n",
       "      <td>Rockstar Games</td>\n",
       "      <td>[Action Adventure, Open-World]</td>\n",
       "      <td>M</td>\n",
       "      <td>97.0</td>\n",
       "      <td>8.4</td>\n",
       "      <td>...</td>\n",
       "      <td>0.0</td>\n",
       "      <td>0.0</td>\n",
       "      <td>0.0</td>\n",
       "      <td>100.0</td>\n",
       "      <td>LEVEL (Czech Republic)</td>\n",
       "      <td>Dec 31, 2018</td>\n",
       "      <td>Amazing not only for Western lovers. No other ...</td>\n",
       "      <td>positiva</td>\n",
       "      <td>[amazing, western, lover, game, probably, offe...</td>\n",
       "      <td>0</td>\n",
       "    </tr>\n",
       "    <tr>\n",
       "      <th>1</th>\n",
       "      <td>0</td>\n",
       "      <td>Red Dead Redemption 2</td>\n",
       "      <td>PlayStation 4</td>\n",
       "      <td>Oct 26, 2018</td>\n",
       "      <td>Developed by the creators of Grand Theft Auto ...</td>\n",
       "      <td>Rockstar Games</td>\n",
       "      <td>[Action Adventure, Open-World]</td>\n",
       "      <td>M</td>\n",
       "      <td>97.0</td>\n",
       "      <td>8.4</td>\n",
       "      <td>...</td>\n",
       "      <td>0.0</td>\n",
       "      <td>0.0</td>\n",
       "      <td>0.0</td>\n",
       "      <td>100.0</td>\n",
       "      <td>Game Rant</td>\n",
       "      <td>Nov 17, 2018</td>\n",
       "      <td>It’s simply incredible how much Rockstar has a...</td>\n",
       "      <td>positiva</td>\n",
       "      <td>[simply, incredible, much, rockstar, accounted...</td>\n",
       "      <td>0</td>\n",
       "    </tr>\n",
       "    <tr>\n",
       "      <th>2</th>\n",
       "      <td>0</td>\n",
       "      <td>Red Dead Redemption 2</td>\n",
       "      <td>PlayStation 4</td>\n",
       "      <td>Oct 26, 2018</td>\n",
       "      <td>Developed by the creators of Grand Theft Auto ...</td>\n",
       "      <td>Rockstar Games</td>\n",
       "      <td>[Action Adventure, Open-World]</td>\n",
       "      <td>M</td>\n",
       "      <td>97.0</td>\n",
       "      <td>8.4</td>\n",
       "      <td>...</td>\n",
       "      <td>0.0</td>\n",
       "      <td>0.0</td>\n",
       "      <td>0.0</td>\n",
       "      <td>100.0</td>\n",
       "      <td>Playstation Official Magazine UK</td>\n",
       "      <td>Nov 14, 2018</td>\n",
       "      <td>No open world game makes you feel as physicall...</td>\n",
       "      <td>positiva</td>\n",
       "      <td>[open, world, game, make, feel, physically, pr...</td>\n",
       "      <td>0</td>\n",
       "    </tr>\n",
       "    <tr>\n",
       "      <th>3</th>\n",
       "      <td>0</td>\n",
       "      <td>Red Dead Redemption 2</td>\n",
       "      <td>PlayStation 4</td>\n",
       "      <td>Oct 26, 2018</td>\n",
       "      <td>Developed by the creators of Grand Theft Auto ...</td>\n",
       "      <td>Rockstar Games</td>\n",
       "      <td>[Action Adventure, Open-World]</td>\n",
       "      <td>M</td>\n",
       "      <td>97.0</td>\n",
       "      <td>8.4</td>\n",
       "      <td>...</td>\n",
       "      <td>0.0</td>\n",
       "      <td>0.0</td>\n",
       "      <td>0.0</td>\n",
       "      <td>100.0</td>\n",
       "      <td>Edge Magazine</td>\n",
       "      <td>Nov  8, 2018</td>\n",
       "      <td>It's a game of restraint, but with some brutal...</td>\n",
       "      <td>positiva</td>\n",
       "      <td>[game, restraint, brutal, sucker, punch, tale,...</td>\n",
       "      <td>0</td>\n",
       "    </tr>\n",
       "    <tr>\n",
       "      <th>4</th>\n",
       "      <td>0</td>\n",
       "      <td>Red Dead Redemption 2</td>\n",
       "      <td>PlayStation 4</td>\n",
       "      <td>Oct 26, 2018</td>\n",
       "      <td>Developed by the creators of Grand Theft Auto ...</td>\n",
       "      <td>Rockstar Games</td>\n",
       "      <td>[Action Adventure, Open-World]</td>\n",
       "      <td>M</td>\n",
       "      <td>97.0</td>\n",
       "      <td>8.4</td>\n",
       "      <td>...</td>\n",
       "      <td>0.0</td>\n",
       "      <td>0.0</td>\n",
       "      <td>0.0</td>\n",
       "      <td>100.0</td>\n",
       "      <td>Games.cz</td>\n",
       "      <td>Nov  5, 2018</td>\n",
       "      <td>Unprecedented. A big, flawless game with a gre...</td>\n",
       "      <td>positiva</td>\n",
       "      <td>[unprecedented, big, flawless, game, great, st...</td>\n",
       "      <td>0</td>\n",
       "    </tr>\n",
       "    <tr>\n",
       "      <th>...</th>\n",
       "      <td>...</td>\n",
       "      <td>...</td>\n",
       "      <td>...</td>\n",
       "      <td>...</td>\n",
       "      <td>...</td>\n",
       "      <td>...</td>\n",
       "      <td>...</td>\n",
       "      <td>...</td>\n",
       "      <td>...</td>\n",
       "      <td>...</td>\n",
       "      <td>...</td>\n",
       "      <td>...</td>\n",
       "      <td>...</td>\n",
       "      <td>...</td>\n",
       "      <td>...</td>\n",
       "      <td>...</td>\n",
       "      <td>...</td>\n",
       "      <td>...</td>\n",
       "      <td>...</td>\n",
       "      <td>...</td>\n",
       "      <td>...</td>\n",
       "    </tr>\n",
       "    <tr>\n",
       "      <th>83416</th>\n",
       "      <td>3635</td>\n",
       "      <td>Vroom in the Night Sky</td>\n",
       "      <td>Switch</td>\n",
       "      <td>Apr  5, 2017</td>\n",
       "      <td>Vroom in the night sky is a magical bike actio...</td>\n",
       "      <td>Poisoft</td>\n",
       "      <td>[Sports, Individual, Biking]</td>\n",
       "      <td>E</td>\n",
       "      <td>17.0</td>\n",
       "      <td>3.2</td>\n",
       "      <td>...</td>\n",
       "      <td>0.0</td>\n",
       "      <td>0.0</td>\n",
       "      <td>0.0</td>\n",
       "      <td>10.0</td>\n",
       "      <td>CGMagazine</td>\n",
       "      <td>Apr 29, 2017</td>\n",
       "      <td>The dialogue might be the most atrocious I’ve ...</td>\n",
       "      <td>negativa</td>\n",
       "      <td>[dialogue, might, atrocious, seen, date, game,...</td>\n",
       "      <td>2</td>\n",
       "    </tr>\n",
       "    <tr>\n",
       "      <th>83417</th>\n",
       "      <td>3635</td>\n",
       "      <td>Vroom in the Night Sky</td>\n",
       "      <td>Switch</td>\n",
       "      <td>Apr  5, 2017</td>\n",
       "      <td>Vroom in the night sky is a magical bike actio...</td>\n",
       "      <td>Poisoft</td>\n",
       "      <td>[Sports, Individual, Biking]</td>\n",
       "      <td>E</td>\n",
       "      <td>17.0</td>\n",
       "      <td>3.2</td>\n",
       "      <td>...</td>\n",
       "      <td>0.0</td>\n",
       "      <td>0.0</td>\n",
       "      <td>0.0</td>\n",
       "      <td>10.0</td>\n",
       "      <td>FNintendo</td>\n",
       "      <td>Apr 28, 2017</td>\n",
       "      <td>There is nothing positive to highlight in Vroo...</td>\n",
       "      <td>negativa</td>\n",
       "      <td>[nothing, positive, highlight, vroom, night, s...</td>\n",
       "      <td>2</td>\n",
       "    </tr>\n",
       "    <tr>\n",
       "      <th>83418</th>\n",
       "      <td>3635</td>\n",
       "      <td>Vroom in the Night Sky</td>\n",
       "      <td>Switch</td>\n",
       "      <td>Apr  5, 2017</td>\n",
       "      <td>Vroom in the night sky is a magical bike actio...</td>\n",
       "      <td>Poisoft</td>\n",
       "      <td>[Sports, Individual, Biking]</td>\n",
       "      <td>E</td>\n",
       "      <td>17.0</td>\n",
       "      <td>3.2</td>\n",
       "      <td>...</td>\n",
       "      <td>0.0</td>\n",
       "      <td>0.0</td>\n",
       "      <td>0.0</td>\n",
       "      <td>10.0</td>\n",
       "      <td>Destructoid</td>\n",
       "      <td>Apr 17, 2017</td>\n",
       "      <td>The lowest of the low. There is no potential, ...</td>\n",
       "      <td>negativa</td>\n",
       "      <td>[lowest, low, potential, skill, depth, talent,...</td>\n",
       "      <td>2</td>\n",
       "    </tr>\n",
       "    <tr>\n",
       "      <th>83419</th>\n",
       "      <td>3635</td>\n",
       "      <td>Vroom in the Night Sky</td>\n",
       "      <td>Switch</td>\n",
       "      <td>Apr  5, 2017</td>\n",
       "      <td>Vroom in the night sky is a magical bike actio...</td>\n",
       "      <td>Poisoft</td>\n",
       "      <td>[Sports, Individual, Biking]</td>\n",
       "      <td>E</td>\n",
       "      <td>17.0</td>\n",
       "      <td>3.2</td>\n",
       "      <td>...</td>\n",
       "      <td>0.0</td>\n",
       "      <td>0.0</td>\n",
       "      <td>0.0</td>\n",
       "      <td>10.0</td>\n",
       "      <td>Meristation</td>\n",
       "      <td>Mar 18, 2017</td>\n",
       "      <td>Vroom in the Night Sky is probably the worst-p...</td>\n",
       "      <td>negativa</td>\n",
       "      <td>[vroom, night, sky, probably, worst, priced, g...</td>\n",
       "      <td>2</td>\n",
       "    </tr>\n",
       "    <tr>\n",
       "      <th>83420</th>\n",
       "      <td>3635</td>\n",
       "      <td>Vroom in the Night Sky</td>\n",
       "      <td>Switch</td>\n",
       "      <td>Apr  5, 2017</td>\n",
       "      <td>Vroom in the night sky is a magical bike actio...</td>\n",
       "      <td>Poisoft</td>\n",
       "      <td>[Sports, Individual, Biking]</td>\n",
       "      <td>E</td>\n",
       "      <td>17.0</td>\n",
       "      <td>3.2</td>\n",
       "      <td>...</td>\n",
       "      <td>0.0</td>\n",
       "      <td>0.0</td>\n",
       "      <td>0.0</td>\n",
       "      <td>5.0</td>\n",
       "      <td>4Players.de</td>\n",
       "      <td>Mar  9, 2017</td>\n",
       "      <td>This is not the Nindie you’re looking for. Sta...</td>\n",
       "      <td>negativa</td>\n",
       "      <td>[nindie, looking, stay, away, visuals, reminis...</td>\n",
       "      <td>2</td>\n",
       "    </tr>\n",
       "  </tbody>\n",
       "</table>\n",
       "<p>83421 rows × 44 columns</p>\n",
       "</div>"
      ],
      "text/plain": [
       "       index                  Titulo     Plataforma  Fecha_salida  \\\n",
       "0          0   Red Dead Redemption 2  PlayStation 4  Oct 26, 2018   \n",
       "1          0   Red Dead Redemption 2  PlayStation 4  Oct 26, 2018   \n",
       "2          0   Red Dead Redemption 2  PlayStation 4  Oct 26, 2018   \n",
       "3          0   Red Dead Redemption 2  PlayStation 4  Oct 26, 2018   \n",
       "4          0   Red Dead Redemption 2  PlayStation 4  Oct 26, 2018   \n",
       "...      ...                     ...            ...           ...   \n",
       "83416   3635  Vroom in the Night Sky         Switch  Apr  5, 2017   \n",
       "83417   3635  Vroom in the Night Sky         Switch  Apr  5, 2017   \n",
       "83418   3635  Vroom in the Night Sky         Switch  Apr  5, 2017   \n",
       "83419   3635  Vroom in the Night Sky         Switch  Apr  5, 2017   \n",
       "83420   3635  Vroom in the Night Sky         Switch  Apr  5, 2017   \n",
       "\n",
       "                                                 Resumen  Desarrolladora  \\\n",
       "0      Developed by the creators of Grand Theft Auto ...  Rockstar Games   \n",
       "1      Developed by the creators of Grand Theft Auto ...  Rockstar Games   \n",
       "2      Developed by the creators of Grand Theft Auto ...  Rockstar Games   \n",
       "3      Developed by the creators of Grand Theft Auto ...  Rockstar Games   \n",
       "4      Developed by the creators of Grand Theft Auto ...  Rockstar Games   \n",
       "...                                                  ...             ...   \n",
       "83416  Vroom in the night sky is a magical bike actio...         Poisoft   \n",
       "83417  Vroom in the night sky is a magical bike actio...         Poisoft   \n",
       "83418  Vroom in the night sky is a magical bike actio...         Poisoft   \n",
       "83419  Vroom in the night sky is a magical bike actio...         Poisoft   \n",
       "83420  Vroom in the night sky is a magical bike actio...         Poisoft   \n",
       "\n",
       "                               Genero Rating  Metascore  Puntuacion_usuarios  \\\n",
       "0      [Action Adventure, Open-World]      M       97.0                  8.4   \n",
       "1      [Action Adventure, Open-World]      M       97.0                  8.4   \n",
       "2      [Action Adventure, Open-World]      M       97.0                  8.4   \n",
       "3      [Action Adventure, Open-World]      M       97.0                  8.4   \n",
       "4      [Action Adventure, Open-World]      M       97.0                  8.4   \n",
       "...                               ...    ...        ...                  ...   \n",
       "83416    [Sports, Individual, Biking]      E       17.0                  3.2   \n",
       "83417    [Sports, Individual, Biking]      E       17.0                  3.2   \n",
       "83418    [Sports, Individual, Biking]      E       17.0                  3.2   \n",
       "83419    [Sports, Individual, Biking]      E       17.0                  3.2   \n",
       "83420    [Sports, Individual, Biking]      E       17.0                  3.2   \n",
       "\n",
       "       ...  Rail  Arcade  Puzzle  Puntuaciones_criticos  \\\n",
       "0      ...   0.0     0.0     0.0                  100.0   \n",
       "1      ...   0.0     0.0     0.0                  100.0   \n",
       "2      ...   0.0     0.0     0.0                  100.0   \n",
       "3      ...   0.0     0.0     0.0                  100.0   \n",
       "4      ...   0.0     0.0     0.0                  100.0   \n",
       "...    ...   ...     ...     ...                    ...   \n",
       "83416  ...   0.0     0.0     0.0                   10.0   \n",
       "83417  ...   0.0     0.0     0.0                   10.0   \n",
       "83418  ...   0.0     0.0     0.0                   10.0   \n",
       "83419  ...   0.0     0.0     0.0                   10.0   \n",
       "83420  ...   0.0     0.0     0.0                    5.0   \n",
       "\n",
       "                                 Medios  Fecha_review  \\\n",
       "0                LEVEL (Czech Republic)  Dec 31, 2018   \n",
       "1                             Game Rant  Nov 17, 2018   \n",
       "2      Playstation Official Magazine UK  Nov 14, 2018   \n",
       "3                         Edge Magazine  Nov  8, 2018   \n",
       "4                              Games.cz  Nov  5, 2018   \n",
       "...                                 ...           ...   \n",
       "83416                        CGMagazine  Apr 29, 2017   \n",
       "83417                         FNintendo  Apr 28, 2017   \n",
       "83418                       Destructoid  Apr 17, 2017   \n",
       "83419                       Meristation  Mar 18, 2017   \n",
       "83420                       4Players.de  Mar  9, 2017   \n",
       "\n",
       "                                                 Reviews  etiqueta  \\\n",
       "0      Amazing not only for Western lovers. No other ...  positiva   \n",
       "1      It’s simply incredible how much Rockstar has a...  positiva   \n",
       "2      No open world game makes you feel as physicall...  positiva   \n",
       "3      It's a game of restraint, but with some brutal...  positiva   \n",
       "4      Unprecedented. A big, flawless game with a gre...  positiva   \n",
       "...                                                  ...       ...   \n",
       "83416  The dialogue might be the most atrocious I’ve ...  negativa   \n",
       "83417  There is nothing positive to highlight in Vroo...  negativa   \n",
       "83418  The lowest of the low. There is no potential, ...  negativa   \n",
       "83419  Vroom in the Night Sky is probably the worst-p...  negativa   \n",
       "83420  This is not the Nindie you’re looking for. Sta...  negativa   \n",
       "\n",
       "                                           reviews_clean  target  \n",
       "0      [amazing, western, lover, game, probably, offe...       0  \n",
       "1      [simply, incredible, much, rockstar, accounted...       0  \n",
       "2      [open, world, game, make, feel, physically, pr...       0  \n",
       "3      [game, restraint, brutal, sucker, punch, tale,...       0  \n",
       "4      [unprecedented, big, flawless, game, great, st...       0  \n",
       "...                                                  ...     ...  \n",
       "83416  [dialogue, might, atrocious, seen, date, game,...       2  \n",
       "83417  [nothing, positive, highlight, vroom, night, s...       2  \n",
       "83418  [lowest, low, potential, skill, depth, talent,...       2  \n",
       "83419  [vroom, night, sky, probably, worst, priced, g...       2  \n",
       "83420  [nindie, looking, stay, away, visuals, reminis...       2  \n",
       "\n",
       "[83421 rows x 44 columns]"
      ]
     },
     "execution_count": 43,
     "metadata": {},
     "output_type": "execute_result"
    }
   ],
   "source": [
    "df"
   ]
  },
  {
   "cell_type": "code",
   "execution_count": 44,
   "metadata": {},
   "outputs": [],
   "source": [
    "corpus= df['reviews_clean'].apply(lambda x:' '.join(x))\n",
    "word_tokenizer = Tokenizer()\n",
    "word_tokenizer.fit_on_texts(corpus)\n",
    "vocab_length = len(word_tokenizer.word_index) + 1\n",
    "embedded_sentences = word_tokenizer.texts_to_sequences(corpus)\n",
    "\n",
    "word_count = lambda sentence: len(word_tokenize(sentence))\n",
    "longest_sentence = max(corpus, key=word_count)\n",
    "length_long_sentence = len(word_tokenize(longest_sentence))\n",
    "padded_sentences = pad_sequences(embedded_sentences, length_long_sentence, padding='post')"
   ]
  },
  {
   "cell_type": "code",
   "execution_count": 45,
   "metadata": {},
   "outputs": [],
   "source": [
    "embeddings_dictionary = dict()\n",
    "glove_file = open('../input/glovedata/glove.6B.100d.txt', encoding=\"utf8\")\n",
    "for line in glove_file:\n",
    "    records = line.split()\n",
    "    word = records[0]\n",
    "    vector_dimensions = asarray(records[1:], dtype='float32')\n",
    "    embeddings_dictionary [word] = vector_dimensions\n",
    "\n",
    "glove_file.close()\n",
    "\n",
    "embedding_matrix = zeros((vocab_length, 100))\n",
    "for word, index in word_tokenizer.word_index.items():\n",
    "    embedding_vector = embeddings_dictionary.get(word)\n",
    "    if embedding_vector is not None:\n",
    "        embedding_matrix[index] = embedding_vector"
   ]
  },
  {
   "cell_type": "code",
   "execution_count": 49,
   "metadata": {},
   "outputs": [
    {
     "name": "stdout",
     "output_type": "stream",
     "text": [
      "Model: \"sequential_4\"\n",
      "_________________________________________________________________\n",
      "Layer (type)                 Output Shape              Param #   \n",
      "=================================================================\n",
      "embedding_4 (Embedding)      (None, 139, 100)          3138000   \n",
      "_________________________________________________________________\n",
      "conv1d_4 (Conv1D)            (None, 135, 128)          64128     \n",
      "_________________________________________________________________\n",
      "max_pooling1d_4 (MaxPooling1 (None, 67, 128)           0         \n",
      "_________________________________________________________________\n",
      "flatten_4 (Flatten)          (None, 8576)              0         \n",
      "_________________________________________________________________\n",
      "dense_8 (Dense)              (None, 10)                85770     \n",
      "_________________________________________________________________\n",
      "dropout_4 (Dropout)          (None, 10)                0         \n",
      "_________________________________________________________________\n",
      "dense_9 (Dense)              (None, 3)                 33        \n",
      "=================================================================\n",
      "Total params: 3,287,931\n",
      "Trainable params: 149,931\n",
      "Non-trainable params: 3,138,000\n",
      "_________________________________________________________________\n",
      "None\n"
     ]
    }
   ],
   "source": [
    "model = Sequential()\n",
    "model.add(Embedding(vocab_length, 100,weights=[embedding_matrix], input_length=length_long_sentence, trainable=False))\n",
    "model.add(Conv1D(128, 5, activation='relu'))\n",
    "model.add(MaxPooling1D())\n",
    "model.add(Flatten())\n",
    "model.add(Dense(10, activation='relu'))\n",
    "model.add(Dropout(0.8))\n",
    "model.add(Dense(3, activation='softmax'))\n",
    "model.compile(optimizer='adam', loss='binary_crossentropy', metrics=['acc', Recall()])\n",
    "print(model.summary())"
   ]
  },
  {
   "cell_type": "code",
   "execution_count": 50,
   "metadata": {},
   "outputs": [],
   "source": [
    "X=padded_sentences\n",
    "y=np.asarray(df['target'])\n",
    "X_train, X_test, y_train, y_test = train_test_split(X, y, test_size=0.2, random_state=1)\n",
    "y_train = to_categorical(y_train)\n",
    "y_test = to_categorical(y_test)"
   ]
  },
  {
   "cell_type": "code",
   "execution_count": 51,
   "metadata": {},
   "outputs": [
    {
     "name": "stdout",
     "output_type": "stream",
     "text": [
      "Epoch 1/70\n",
      "1460/1460 [==============================] - 8s 5ms/step - loss: 0.5333 - acc: 0.6025 - recall_4: 0.3652 - val_loss: 0.4949 - val_acc: 0.6073 - val_recall_4: 0.6017\n",
      "Epoch 2/70\n",
      "1460/1460 [==============================] - 7s 5ms/step - loss: 0.4926 - acc: 0.6076 - recall_4: 0.6055 - val_loss: 0.4718 - val_acc: 0.6068 - val_recall_4: 0.6050\n",
      "Epoch 3/70\n",
      "1460/1460 [==============================] - 8s 6ms/step - loss: 0.4846 - acc: 0.6141 - recall_4: 0.6052 - val_loss: 0.4655 - val_acc: 0.6146 - val_recall_4: 0.6001\n",
      "Epoch 4/70\n",
      "1460/1460 [==============================] - 8s 5ms/step - loss: 0.4801 - acc: 0.6214 - recall_4: 0.6117 - val_loss: 0.4575 - val_acc: 0.6245 - val_recall_4: 0.6049\n",
      "Epoch 5/70\n",
      "1460/1460 [==============================] - 7s 5ms/step - loss: 0.4714 - acc: 0.6275 - recall_4: 0.6158 - val_loss: 0.4510 - val_acc: 0.6241 - val_recall_4: 0.6087\n",
      "Epoch 6/70\n",
      "1460/1460 [==============================] - 8s 6ms/step - loss: 0.4654 - acc: 0.6327 - recall_4: 0.6189 - val_loss: 0.4407 - val_acc: 0.6489 - val_recall_4: 0.6101\n",
      "Epoch 7/70\n",
      "1460/1460 [==============================] - 9s 6ms/step - loss: 0.4603 - acc: 0.6390 - recall_4: 0.6255 - val_loss: 0.4403 - val_acc: 0.6550 - val_recall_4: 0.6097\n",
      "Epoch 8/70\n",
      "1460/1460 [==============================] - 8s 5ms/step - loss: 0.4553 - acc: 0.6420 - recall_4: 0.6305 - val_loss: 0.4409 - val_acc: 0.6641 - val_recall_4: 0.6130\n",
      "Epoch 9/70\n",
      "1460/1460 [==============================] - 7s 5ms/step - loss: 0.4509 - acc: 0.6454 - recall_4: 0.6344 - val_loss: 0.4358 - val_acc: 0.6595 - val_recall_4: 0.6216\n",
      "Epoch 10/70\n",
      "1460/1460 [==============================] - 8s 5ms/step - loss: 0.4459 - acc: 0.6499 - recall_4: 0.6395 - val_loss: 0.4343 - val_acc: 0.6690 - val_recall_4: 0.6218\n",
      "Epoch 11/70\n",
      "1460/1460 [==============================] - 8s 6ms/step - loss: 0.4408 - acc: 0.6508 - recall_4: 0.6414 - val_loss: 0.4332 - val_acc: 0.6732 - val_recall_4: 0.6211\n",
      "Epoch 12/70\n",
      "1460/1460 [==============================] - 7s 5ms/step - loss: 0.4365 - acc: 0.6581 - recall_4: 0.6496 - val_loss: 0.4382 - val_acc: 0.6611 - val_recall_4: 0.6320\n",
      "Epoch 13/70\n",
      "1460/1460 [==============================] - 7s 5ms/step - loss: 0.4320 - acc: 0.6643 - recall_4: 0.6540 - val_loss: 0.4311 - val_acc: 0.6764 - val_recall_4: 0.6383\n",
      "Epoch 14/70\n",
      "1460/1460 [==============================] - 9s 6ms/step - loss: 0.4216 - acc: 0.6797 - recall_4: 0.6673 - val_loss: 0.4286 - val_acc: 0.6851 - val_recall_4: 0.6527\n",
      "Epoch 15/70\n",
      "1460/1460 [==============================] - 8s 6ms/step - loss: 0.4119 - acc: 0.6961 - recall_4: 0.6836 - val_loss: 0.4339 - val_acc: 0.6784 - val_recall_4: 0.6503\n",
      "Epoch 16/70\n",
      "1460/1460 [==============================] - 7s 5ms/step - loss: 0.4052 - acc: 0.7029 - recall_4: 0.6930 - val_loss: 0.4369 - val_acc: 0.6782 - val_recall_4: 0.6541\n",
      "Epoch 17/70\n",
      "1460/1460 [==============================] - 8s 5ms/step - loss: 0.3993 - acc: 0.7108 - recall_4: 0.7022 - val_loss: 0.4409 - val_acc: 0.6793 - val_recall_4: 0.6557\n",
      "Epoch 18/70\n",
      "1460/1460 [==============================] - 8s 5ms/step - loss: 0.3935 - acc: 0.7167 - recall_4: 0.7080 - val_loss: 0.4557 - val_acc: 0.6747 - val_recall_4: 0.6558\n",
      "Epoch 19/70\n",
      "1460/1460 [==============================] - 8s 6ms/step - loss: 0.3880 - acc: 0.7223 - recall_4: 0.7158 - val_loss: 0.4568 - val_acc: 0.6750 - val_recall_4: 0.6556\n",
      "Epoch 00019: early stopping\n",
      "522/522 [==============================] - 2s 3ms/step - loss: 0.4559 - acc: 0.6735 - recall_4: 0.6548\n",
      "Accuracy: 0.6734791994094849% \n",
      " Error: 0.32652080059051514\n"
     ]
    }
   ],
   "source": [
    "callback = EarlyStopping(monitor='val_loss', patience=3, verbose=1)\n",
    "history= model.fit(X_train, y_train, validation_split=0.3, epochs=70, verbose=1, callbacks=callback)\n",
    "scores = model.evaluate(X_test, y_test, verbose=1)\n",
    "print('Accuracy: {}% \\n Error: {}'.format(scores[1], 1 - scores[1])) "
   ]
  },
  {
   "cell_type": "code",
   "execution_count": 52,
   "metadata": {},
   "outputs": [
    {
     "data": {
      "image/png": "[encoded data removed]",
      "text/plain": [
       "<Figure size 432x288 with 1 Axes>"
      ]
     },
     "metadata": {
      "needs_background": "light"
     },
     "output_type": "display_data"
    }
   ],
   "source": [
    "plt.plot(history.history['acc'])\n",
    "plt.plot(history.history['val_acc'])\n",
    "\n",
    "plt.title('model accuracy')\n",
    "plt.ylabel('accuracy')\n",
    "plt.xlabel('epoch')\n",
    "plt.legend(['train','test'], loc='upper left')\n",
    "plt.show()"
   ]
  },
  {
   "cell_type": "markdown",
   "metadata": {},
   "source": [
    "Obtenemos un accuracciý y un recall elevados pero procederemos a ver si podemos mejorar los resultados."
   ]
  },
  {
   "cell_type": "markdown",
   "metadata": {},
   "source": [
    "# **Red neuronal convolucional. Reviews dos etiquetas**"
   ]
  },
  {
   "cell_type": "markdown",
   "metadata": {},
   "source": [
    "Debido a que los resultados con todos los datos no parecen arrojar buenos resultados se procede a establecer dos etiquetas, omitiendo la etiqueta mixta. El dataframe es el mismo solo que con las etiquetas de comentarios positivas y negativas"
   ]
  },
  {
   "cell_type": "code",
   "execution_count": 53,
   "metadata": {},
   "outputs": [],
   "source": [
    "df=pd.read_pickle('../input/df6-prueba/proyecto_df6_protocolo.pkl')"
   ]
  },
  {
   "cell_type": "code",
   "execution_count": 54,
   "metadata": {},
   "outputs": [],
   "source": [
    "corpus= df['reviews_clean'].apply(lambda x:' '.join(x))\n",
    "word_tokenizer = Tokenizer()\n",
    "word_tokenizer.fit_on_texts(corpus)\n",
    "vocab_length = len(word_tokenizer.word_index) + 1\n",
    "embedded_sentences = word_tokenizer.texts_to_sequences(corpus)\n",
    "\n",
    "word_count = lambda sentence: len(word_tokenize(sentence))\n",
    "longest_sentence = max(corpus, key=word_count)\n",
    "length_long_sentence = len(word_tokenize(longest_sentence))\n",
    "padded_sentences = pad_sequences(embedded_sentences, length_long_sentence, padding='post')"
   ]
  },
  {
   "cell_type": "code",
   "execution_count": 55,
   "metadata": {},
   "outputs": [],
   "source": [
    "embeddings_dictionary = dict()\n",
    "glove_file = open('../input/glovedata/glove.6B.100d.txt', encoding=\"utf8\")\n",
    "for line in glove_file:\n",
    "    records = line.split()\n",
    "    word = records[0]\n",
    "    vector_dimensions = asarray(records[1:], dtype='float32')\n",
    "    embeddings_dictionary [word] = vector_dimensions\n",
    "\n",
    "glove_file.close()\n",
    "\n",
    "embedding_matrix = zeros((vocab_length, 100))\n",
    "for word, index in word_tokenizer.word_index.items():\n",
    "    embedding_vector = embeddings_dictionary.get(word)\n",
    "    if embedding_vector is not None:\n",
    "        embedding_matrix[index] = embedding_vector"
   ]
  },
  {
   "cell_type": "code",
   "execution_count": 56,
   "metadata": {},
   "outputs": [
    {
     "name": "stdout",
     "output_type": "stream",
     "text": [
      "Model: \"sequential_5\"\n",
      "_________________________________________________________________\n",
      "Layer (type)                 Output Shape              Param #   \n",
      "=================================================================\n",
      "embedding_5 (Embedding)      (None, 98, 100)           1473400   \n",
      "_________________________________________________________________\n",
      "conv1d_5 (Conv1D)            (None, 94, 128)           64128     \n",
      "_________________________________________________________________\n",
      "max_pooling1d_5 (MaxPooling1 (None, 47, 128)           0         \n",
      "_________________________________________________________________\n",
      "flatten_5 (Flatten)          (None, 6016)              0         \n",
      "_________________________________________________________________\n",
      "dense_10 (Dense)             (None, 100)               601700    \n",
      "_________________________________________________________________\n",
      "dropout_5 (Dropout)          (None, 100)               0         \n",
      "_________________________________________________________________\n",
      "dense_11 (Dense)             (None, 1)                 101       \n",
      "=================================================================\n",
      "Total params: 2,139,329\n",
      "Trainable params: 665,929\n",
      "Non-trainable params: 1,473,400\n",
      "_________________________________________________________________\n",
      "None\n"
     ]
    }
   ],
   "source": [
    "model = Sequential()\n",
    "model.add(Embedding(vocab_length, 100,weights=[embedding_matrix], input_length=length_long_sentence, trainable=False))\n",
    "model.add(Conv1D(128, 5, activation='relu'))\n",
    "model.add(MaxPooling1D())\n",
    "model.add(Flatten())\n",
    "model.add(Dense(100, activation='relu'))\n",
    "model.add(Dropout(0.9))\n",
    "model.add(Dense(1, activation='sigmoid'))\n",
    "model.compile(optimizer='adam', loss='binary_crossentropy', metrics=['acc', Recall()])\n",
    "print(model.summary())"
   ]
  },
  {
   "cell_type": "code",
   "execution_count": 57,
   "metadata": {},
   "outputs": [],
   "source": [
    "X=padded_sentences\n",
    "y=np.asarray(df['target'])\n",
    "X_train, X_test, y_train, y_test = train_test_split(X, y, test_size=0.4, random_state=1)"
   ]
  },
  {
   "cell_type": "code",
   "execution_count": 58,
   "metadata": {},
   "outputs": [
    {
     "name": "stdout",
     "output_type": "stream",
     "text": [
      "Epoch 1/70\n",
      "114/114 [==============================] - 1s 7ms/step - loss: 0.7195 - acc: 0.5603 - recall_5: 0.1109 - val_loss: 0.6777 - val_acc: 0.5623 - val_recall_5: 0.0000e+00\n",
      "Epoch 2/70\n",
      "114/114 [==============================] - 1s 5ms/step - loss: 0.6476 - acc: 0.6010 - recall_5: 0.1553 - val_loss: 0.5737 - val_acc: 0.7099 - val_recall_5: 0.4883\n",
      "Epoch 3/70\n",
      "114/114 [==============================] - 1s 5ms/step - loss: 0.5566 - acc: 0.7084 - recall_5: 0.5199 - val_loss: 0.5051 - val_acc: 0.7696 - val_recall_5: 0.8372\n",
      "Epoch 4/70\n",
      "114/114 [==============================] - 1s 5ms/step - loss: 0.4883 - acc: 0.7646 - recall_5: 0.6419 - val_loss: 0.4639 - val_acc: 0.7811 - val_recall_5: 0.8021\n",
      "Epoch 5/70\n",
      "114/114 [==============================] - 1s 5ms/step - loss: 0.4243 - acc: 0.8073 - recall_5: 0.7045 - val_loss: 0.4999 - val_acc: 0.7612 - val_recall_5: 0.5469\n",
      "Epoch 6/70\n",
      "114/114 [==============================] - 1s 5ms/step - loss: 0.3693 - acc: 0.8376 - recall_5: 0.7449 - val_loss: 0.4461 - val_acc: 0.7869 - val_recall_5: 0.7199\n",
      "Epoch 7/70\n",
      "114/114 [==============================] - 1s 5ms/step - loss: 0.3145 - acc: 0.8610 - recall_5: 0.7867 - val_loss: 0.4553 - val_acc: 0.7908 - val_recall_5: 0.7141\n",
      "Epoch 8/70\n",
      "114/114 [==============================] - 1s 5ms/step - loss: 0.2499 - acc: 0.8948 - recall_5: 0.8389 - val_loss: 0.5033 - val_acc: 0.7824 - val_recall_5: 0.6935\n",
      "Epoch 00008: early stopping\n",
      "109/109 [==============================] - 0s 4ms/step - loss: 0.4788 - acc: 0.8040 - recall_5: 0.7087\n",
      "Accuracy: 0.8040462136268616% \n",
      " Error: 0.19595378637313843\n"
     ]
    }
   ],
   "source": [
    "callback = EarlyStopping(monitor='val_loss', verbose=1)\n",
    "history= model.fit(X_train, y_train, validation_split=0.3, epochs=70, verbose=1, callbacks=callback)\n",
    "scores = model.evaluate(X_test, y_test, verbose=1)\n",
    "print('Accuracy: {}% \\n Error: {}'.format(scores[1], 1 - scores[1])) "
   ]
  },
  {
   "cell_type": "code",
   "execution_count": 59,
   "metadata": {},
   "outputs": [
    {
     "data": {
      "image/png": "[encoded data removed]",
      "text/plain": [
       "<Figure size 432x288 with 1 Axes>"
      ]
     },
     "metadata": {
      "needs_background": "light"
     },
     "output_type": "display_data"
    }
   ],
   "source": [
    "plt.plot(history.history['acc'])\n",
    "plt.plot(history.history['val_acc'])\n",
    "\n",
    "plt.title('model accuracy')\n",
    "plt.ylabel('accuracy')\n",
    "plt.xlabel('epoch')\n",
    "plt.legend(['train','test'], loc='upper left')\n",
    "plt.show()"
   ]
  },
  {
   "cell_type": "markdown",
   "metadata": {},
   "source": [
    "# **Red neuronal convolucional. Comentarios todos los datos**"
   ]
  },
  {
   "cell_type": "markdown",
   "metadata": {},
   "source": [
    "Actuamos de manera similar pero sobre los comentarios de usuarios en vez de las reviews de medios especilizados. "
   ]
  },
  {
   "cell_type": "code",
   "execution_count": 60,
   "metadata": {},
   "outputs": [],
   "source": [
    "df_comentarios=pd.read_pickle('../input/comentarios-usuarios/proyecto_df5_usuarios_protocolo.pkl')\n",
    "df_pn=pd.read_pickle('../input/comentarios-usuarios/proyecto_df6_usuarios_protocolo.pkl')"
   ]
  },
  {
   "cell_type": "code",
   "execution_count": 61,
   "metadata": {},
   "outputs": [],
   "source": [
    "df_pn.target=df_pn.target.replace(2,1)"
   ]
  },
  {
   "cell_type": "code",
   "execution_count": 62,
   "metadata": {},
   "outputs": [],
   "source": [
    "corpus= df_comentarios['reviews_usuarios_clean'].apply(lambda x:' '.join(x))\n",
    "word_tokenizer = Tokenizer()\n",
    "word_tokenizer.fit_on_texts(corpus)\n",
    "vocab_length = len(word_tokenizer.word_index)+1\n",
    "embedded_sentences = word_tokenizer.texts_to_sequences(corpus)\n",
    "\n",
    "word_count = lambda sentence: len(word_tokenize(sentence))\n",
    "longest_sentence = max(corpus, key=word_count)\n",
    "length_long_sentence = len(word_tokenize(longest_sentence))\n",
    "padded_sentences = pad_sequences(embedded_sentences, length_long_sentence, padding='post')"
   ]
  },
  {
   "cell_type": "code",
   "execution_count": 63,
   "metadata": {},
   "outputs": [],
   "source": [
    "embeddings_dictionary = dict()\n",
    "glove_file = open('../input/glovedata/glove.6B.100d.txt', encoding=\"utf8\")\n",
    "for line in glove_file:\n",
    "    records = line.split()\n",
    "    word = records[0]\n",
    "    vector_dimensions = asarray(records[1:], dtype='float32')\n",
    "    embeddings_dictionary [word] = vector_dimensions\n",
    "\n",
    "glove_file.close()\n",
    "\n",
    "embedding_matrix = zeros((vocab_length, 100))\n",
    "for word, index in word_tokenizer.word_index.items():\n",
    "    embedding_vector = embeddings_dictionary.get(word)\n",
    "    if embedding_vector is not None:\n",
    "        embedding_matrix[index] = embedding_vector"
   ]
  },
  {
   "cell_type": "code",
   "execution_count": 64,
   "metadata": {},
   "outputs": [],
   "source": [
    "X=padded_sentences\n",
    "y=np.asarray(df_comentarios['target'])\n",
    "X_train, X_test, y_train, y_test = train_test_split(X, y, test_size=0.4, random_state=1)\n",
    "y_train = to_categorical(y_train)\n",
    "y_test = to_categorical(y_test)"
   ]
  },
  {
   "cell_type": "code",
   "execution_count": 65,
   "metadata": {},
   "outputs": [
    {
     "name": "stdout",
     "output_type": "stream",
     "text": [
      "Model: \"sequential_6\"\n",
      "_________________________________________________________________\n",
      "Layer (type)                 Output Shape              Param #   \n",
      "=================================================================\n",
      "embedding_6 (Embedding)      (None, 1299, 100)         5810200   \n",
      "_________________________________________________________________\n",
      "conv1d_6 (Conv1D)            (None, 1295, 128)         64128     \n",
      "_________________________________________________________________\n",
      "max_pooling1d_6 (MaxPooling1 (None, 647, 128)          0         \n",
      "_________________________________________________________________\n",
      "flatten_6 (Flatten)          (None, 82816)             0         \n",
      "_________________________________________________________________\n",
      "dense_12 (Dense)             (None, 100)               8281700   \n",
      "_________________________________________________________________\n",
      "dropout_6 (Dropout)          (None, 100)               0         \n",
      "_________________________________________________________________\n",
      "dense_13 (Dense)             (None, 3)                 303       \n",
      "=================================================================\n",
      "Total params: 14,156,331\n",
      "Trainable params: 8,346,131\n",
      "Non-trainable params: 5,810,200\n",
      "_________________________________________________________________\n",
      "None\n"
     ]
    }
   ],
   "source": [
    "model = Sequential()\n",
    "model.add(Embedding(vocab_length, 100,weights=[embedding_matrix], input_length=length_long_sentence, trainable=False))\n",
    "model.add(Conv1D(128, 5, activation='relu'))\n",
    "model.add(MaxPooling1D())\n",
    "model.add(Flatten())\n",
    "model.add(Dense(100, activation='relu'))\n",
    "model.add(Dropout(0.9))\n",
    "model.add(Dense(3, activation='softmax'))\n",
    "model.compile(optimizer='adam', loss='binary_crossentropy', metrics=['acc', Recall()])\n",
    "print(model.summary())"
   ]
  },
  {
   "cell_type": "code",
   "execution_count": 66,
   "metadata": {},
   "outputs": [
    {
     "name": "stdout",
     "output_type": "stream",
     "text": [
      "Epoch 1/70\n",
      "1231/1231 [==============================] - 17s 14ms/step - loss: 0.5472 - acc: 0.5227 - recall_6: 0.2820 - val_loss: 0.4676 - val_acc: 0.6394 - val_recall_6: 0.3973\n",
      "Epoch 2/70\n",
      "1231/1231 [==============================] - 18s 14ms/step - loss: 0.4897 - acc: 0.6020 - recall_6: 0.3995 - val_loss: 0.4455 - val_acc: 0.6605 - val_recall_6: 0.4581\n",
      "Epoch 3/70\n",
      "1231/1231 [==============================] - 18s 14ms/step - loss: 0.4678 - acc: 0.6330 - recall_6: 0.4380 - val_loss: 0.4339 - val_acc: 0.6803 - val_recall_6: 0.4960\n",
      "Epoch 4/70\n",
      "1231/1231 [==============================] - 17s 14ms/step - loss: 0.4560 - acc: 0.6395 - recall_6: 0.4537 - val_loss: 0.4290 - val_acc: 0.6823 - val_recall_6: 0.4859\n",
      "Epoch 5/70\n",
      "1231/1231 [==============================] - 17s 14ms/step - loss: 0.4452 - acc: 0.6581 - recall_6: 0.4692 - val_loss: 0.4279 - val_acc: 0.6896 - val_recall_6: 0.5161\n",
      "Epoch 6/70\n",
      "1231/1231 [==============================] - 18s 15ms/step - loss: 0.4351 - acc: 0.6708 - recall_6: 0.4771 - val_loss: 0.4308 - val_acc: 0.6971 - val_recall_6: 0.5044\n",
      "Epoch 7/70\n",
      "1231/1231 [==============================] - 17s 14ms/step - loss: 0.4234 - acc: 0.6826 - recall_6: 0.4879 - val_loss: 0.4267 - val_acc: 0.6921 - val_recall_6: 0.4994\n",
      "Epoch 8/70\n",
      "1231/1231 [==============================] - 17s 14ms/step - loss: 0.4137 - acc: 0.6900 - recall_6: 0.4951 - val_loss: 0.4428 - val_acc: 0.6638 - val_recall_6: 0.5078\n",
      "Epoch 9/70\n",
      "1231/1231 [==============================] - 18s 15ms/step - loss: 0.4032 - acc: 0.6968 - recall_6: 0.5063 - val_loss: 0.4408 - val_acc: 0.6930 - val_recall_6: 0.5229\n",
      "Epoch 10/70\n",
      "1231/1231 [==============================] - 17s 14ms/step - loss: 0.3951 - acc: 0.7089 - recall_6: 0.5110 - val_loss: 0.4577 - val_acc: 0.6924 - val_recall_6: 0.5258\n",
      "Epoch 00010: early stopping\n",
      "440/440 [==============================] - 3s 7ms/step - loss: 0.4795 - acc: 0.6915 - recall_6: 0.5244\n",
      "Accuracy: 0.6915475726127625% \n",
      " Error: 0.30845242738723755\n"
     ]
    }
   ],
   "source": [
    "callback = EarlyStopping(monitor='val_loss', patience=2, verbose=1)\n",
    "history= model.fit(X_train, y_train, validation_split=0.3, epochs=70, verbose=1, callbacks=callback)\n",
    "scores = model.evaluate(X_test, y_test, verbose=1)\n",
    "print('Accuracy: {}% \\n Error: {}'.format(scores[1], 1 - scores[1])) "
   ]
  },
  {
   "cell_type": "code",
   "execution_count": 67,
   "metadata": {},
   "outputs": [
    {
     "data": {
      "image/png": "[encoded data removed]",
      "text/plain": [
       "<Figure size 432x288 with 1 Axes>"
      ]
     },
     "metadata": {
      "needs_background": "light"
     },
     "output_type": "display_data"
    }
   ],
   "source": [
    "plt.plot(history.history['acc'])\n",
    "plt.plot(history.history['val_acc'])\n",
    "\n",
    "plt.title('model accuracy')\n",
    "plt.ylabel('accuracy')\n",
    "plt.xlabel('epoch')\n",
    "plt.legend(['train','test'], loc='upper left')\n",
    "plt.show()"
   ]
  },
  {
   "cell_type": "markdown",
   "metadata": {},
   "source": [
    "Obtenemos resultados parecidos a que con los medios especilizados."
   ]
  },
  {
   "cell_type": "markdown",
   "metadata": {},
   "source": [
    "# **Red neuronal convolucional. Comentarios dos etiquetas**"
   ]
  },
  {
   "cell_type": "markdown",
   "metadata": {},
   "source": [
    "Al igual que con los medios especializados, cogemos solo de los comentarios de usuarios aquellos que tengan la etiqueta \"positiva\" y la etiqueta \"negativa\", omitiendo la etiqueta \"mixta\""
   ]
  },
  {
   "cell_type": "code",
   "execution_count": 80,
   "metadata": {},
   "outputs": [],
   "source": [
    "corpus= df_pn['reviews_usuarios_clean'].apply(lambda x:' '.join(x))\n",
    "word_tokenizer = Tokenizer()\n",
    "word_tokenizer.fit_on_texts(corpus)\n",
    "vocab_length = len(word_tokenizer.word_index)+1\n",
    "embedded_sentences = word_tokenizer.texts_to_sequences(corpus)\n",
    "\n",
    "word_count = lambda sentence: len(word_tokenize(sentence))\n",
    "longest_sentence = max(corpus, key=word_count)\n",
    "length_long_sentence = len(word_tokenize(longest_sentence))\n",
    "padded_sentences = pad_sequences(embedded_sentences, length_long_sentence, padding='post')"
   ]
  },
  {
   "cell_type": "code",
   "execution_count": 81,
   "metadata": {},
   "outputs": [],
   "source": [
    "embeddings_dictionary = dict()\n",
    "glove_file = open('../input/glovedata/glove.6B.100d.txt', encoding=\"utf8\")\n",
    "for line in glove_file:\n",
    "    records = line.split()\n",
    "    word = records[0]\n",
    "    vector_dimensions = asarray(records[1:], dtype='float32')\n",
    "    embeddings_dictionary [word] = vector_dimensions\n",
    "\n",
    "glove_file.close()\n",
    "\n",
    "embedding_matrix = zeros((vocab_length, 100))\n",
    "for word, index in word_tokenizer.word_index.items():\n",
    "    embedding_vector = embeddings_dictionary.get(word)\n",
    "    if embedding_vector is not None:\n",
    "        embedding_matrix[index] = embedding_vector"
   ]
  },
  {
   "cell_type": "code",
   "execution_count": 82,
   "metadata": {},
   "outputs": [],
   "source": [
    "X=padded_sentences\n",
    "y=np.asarray(df_pn['target'])\n",
    "X_train, X_test, y_train, y_test = train_test_split(X, y, test_size=0.4, random_state=1)"
   ]
  },
  {
   "cell_type": "code",
   "execution_count": 85,
   "metadata": {},
   "outputs": [
    {
     "name": "stdout",
     "output_type": "stream",
     "text": [
      "Model: \"sequential_11\"\n",
      "_________________________________________________________________\n",
      "Layer (type)                 Output Shape              Param #   \n",
      "=================================================================\n",
      "embedding_11 (Embedding)     (None, 1299, 100)         4774000   \n",
      "_________________________________________________________________\n",
      "conv1d_11 (Conv1D)           (None, 1295, 128)         64128     \n",
      "_________________________________________________________________\n",
      "max_pooling1d_11 (MaxPooling (None, 647, 128)          0         \n",
      "_________________________________________________________________\n",
      "flatten_11 (Flatten)         (None, 82816)             0         \n",
      "_________________________________________________________________\n",
      "dense_22 (Dense)             (None, 100)               8281700   \n",
      "_________________________________________________________________\n",
      "dropout_11 (Dropout)         (None, 100)               0         \n",
      "_________________________________________________________________\n",
      "dense_23 (Dense)             (None, 1)                 101       \n",
      "=================================================================\n",
      "Total params: 13,119,929\n",
      "Trainable params: 8,345,929\n",
      "Non-trainable params: 4,774,000\n",
      "_________________________________________________________________\n",
      "None\n"
     ]
    }
   ],
   "source": [
    "model = Sequential()\n",
    "model.add(Embedding(vocab_length, 100,weights=[embedding_matrix], input_length=length_long_sentence, trainable=False))\n",
    "model.add(Conv1D(128, 5, activation='relu'))\n",
    "model.add(MaxPooling1D())\n",
    "model.add(Flatten())\n",
    "model.add(Dense(100, activation='relu'))\n",
    "model.add(Dropout(0.9))\n",
    "model.add(Dense(1, activation='sigmoid'))\n",
    "model.compile(optimizer='adam', loss='binary_crossentropy', metrics=['acc', Recall()])\n",
    "print(model.summary())"
   ]
  },
  {
   "cell_type": "code",
   "execution_count": 86,
   "metadata": {},
   "outputs": [
    {
     "name": "stdout",
     "output_type": "stream",
     "text": [
      "Epoch 1/70\n",
      "687/687 [==============================] - 10s 14ms/step - loss: 0.5082 - acc: 0.7448 - recall_11: 0.9127 - val_loss: 0.3512 - val_acc: 0.8504 - val_recall_11: 0.9246\n",
      "Epoch 2/70\n",
      "687/687 [==============================] - 9s 13ms/step - loss: 0.3643 - acc: 0.8541 - recall_11: 0.8930 - val_loss: 0.3061 - val_acc: 0.8727 - val_recall_11: 0.9363\n",
      "Epoch 3/70\n",
      "687/687 [==============================] - 9s 13ms/step - loss: 0.3330 - acc: 0.8704 - recall_11: 0.9052 - val_loss: 0.2866 - val_acc: 0.8821 - val_recall_11: 0.9108\n",
      "Epoch 4/70\n",
      "687/687 [==============================] - 9s 13ms/step - loss: 0.2976 - acc: 0.8809 - recall_11: 0.9119 - val_loss: 0.2977 - val_acc: 0.8773 - val_recall_11: 0.9409\n",
      "Epoch 5/70\n",
      "687/687 [==============================] - 9s 13ms/step - loss: 0.2748 - acc: 0.8929 - recall_11: 0.9156 - val_loss: 0.3022 - val_acc: 0.8816 - val_recall_11: 0.9422\n",
      "Epoch 00005: early stopping\n",
      "655/655 [==============================] - 5s 8ms/step - loss: 0.3056 - acc: 0.8803 - recall_11: 0.9424\n",
      "Accuracy: 0.8803132772445679% \n",
      " Error: 0.11968672275543213\n"
     ]
    }
   ],
   "source": [
    "callback = EarlyStopping(monitor='val_loss', patience=2, verbose=1)\n",
    "history= model.fit(X_train, y_train, validation_split=0.3, epochs=70, verbose=1, callbacks=callback)\n",
    "scores = model.evaluate(X_test, y_test, verbose=1)\n",
    "print('Accuracy: {}% \\n Error: {}'.format(scores[1], 1 - scores[1])) "
   ]
  },
  {
   "cell_type": "code",
   "execution_count": 87,
   "metadata": {},
   "outputs": [
    {
     "data": {
      "image/png": "[encoded data removed]",
      "text/plain": [
       "<Figure size 432x288 with 1 Axes>"
      ]
     },
     "metadata": {
      "needs_background": "light"
     },
     "output_type": "display_data"
    }
   ],
   "source": [
    "plt.plot(history.history['acc'])\n",
    "plt.plot(history.history['val_acc'])\n",
    "\n",
    "plt.title('model accuracy')\n",
    "plt.ylabel('accuracy')\n",
    "plt.xlabel('epoch')\n",
    "plt.legend(['train','test'], loc='upper left')\n",
    "plt.show()"
   ]
  },
  {
   "cell_type": "markdown",
   "metadata": {},
   "source": [
    "Como conclusión se obtienen unos valores de precisión bastante elevados y con un buen recall lo que nos indica la seguridad del algoritmo para poder detectar comentarios negativos. Se produce algo de overfitting que debería ser corregido y tratar de mejorar el algoritmo para identificar los comentarios que se consideran \"mixtos\". Aun así tanto con medios especializados de análisis de videojuegos como de usuarios, es posible clasificar entre \"positivos\" y \"negativos\""
   ]
  },
  {
   "cell_type": "code",
   "execution_count": null,
   "metadata": {},
   "outputs": [],
   "source": []
  }
 ],
 "metadata": {
  "kernelspec": {
   "display_name": "Python 3",
   "language": "python",
   "name": "python3"
  },
  "language_info": {
   "codemirror_mode": {
    "name": "ipython",
    "version": 3
   },
   "file_extension": ".py",
   "mimetype": "text/x-python",
   "name": "python",
   "nbconvert_exporter": "python",
   "pygments_lexer": "ipython3",
   "version": "3.8.3"
  }
 },
 "nbformat": 4,
 "nbformat_minor": 4
}
